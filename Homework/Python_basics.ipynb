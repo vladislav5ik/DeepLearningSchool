{
 "cells": [
  {
   "cell_type": "markdown",
   "metadata": {
    "colab_type": "text",
    "id": "view-in-github"
   },
   "source": [
    "<a href=\"https://colab.research.google.com/github/vladislav5ik/DeepLearningSchool/blob/main/%5Bhomework%5DPython_basics.ipynb\" target=\"_parent\"><img src=\"https://colab.research.google.com/assets/colab-badge.svg\" alt=\"Open In Colab\"/></a>"
   ]
  },
  {
   "cell_type": "markdown",
   "metadata": {
    "id": "y1GvSl7RYATs"
   },
   "source": [
    "<p style=\"align: center;\"><img align=center src=\"https://s8.hostingkartinok.com/uploads/images/2018/08/308b49fcfbc619d629fe4604bceb67ac.jpg\" width=500 height=450/></p>\n",
    "\n",
    "<h3 style=\"text-align: center;\"><b>\"Глубокое обучение\". Базовый поток</b></h3>\n",
    "\n",
    "<h2 style=\"text-align: center;\"><b>Домашнее задание 1. Основы Python</b></h2>\n",
    "\n",
    "Вам предлагается решить задачи ниже. Решения необходимо сдавать в Stepik."
   ]
  },
  {
   "cell_type": "markdown",
   "metadata": {
    "id": "MDEu6tZQYATy"
   },
   "source": [
    "### Почти двойной факториал\n",
    "Дано натуральное $N \\leqslant 100$.  Выведите произведение всех нечётных натуральных чисел, не превосходящих $N$."
   ]
  },
  {
   "cell_type": "code",
   "execution_count": 22,
   "metadata": {
    "id": "5GgcNVy1YAT0"
   },
   "outputs": [],
   "source": [
    "N = 25\n",
    "N_double_fact = 1\n",
    "\n",
    "for i in range(1, N + 1, 2):\n",
    "    N_double_fact *= i\n",
    "\n",
    "assert N_double_fact == 7905853580625, \"Something is wrong! Please try again\""
   ]
  },
  {
   "cell_type": "markdown",
   "metadata": {
    "id": "A57_204nYAT3"
   },
   "source": [
    "### Хитрая сортировка\n",
    "\n",
    "Пусть у нас есть следующий список, в котором элементы -- tuple из строк:\n",
    "\n",
    "``items = [('one', 'two'), ('three', 'four'), ('five', 'six'), ('string', 'a')]``\n",
    "\n",
    "Мы хотим отсортировать этот список по последней букве второго элемента каждого ``tuple``, т.е. получить такой список:\n",
    "\n",
    "``sorted_items = [('string', 'a'), ('one', 'two'), ('three', 'four'), ('five', 'six')]``.\n",
    "Что нужно вставить вместо \"###\" в следующем выражении, чтобы получить сортировку?\n",
    "\n",
    "``sorted_items = sorted(items, key=lambda x: ###)``"
   ]
  },
  {
   "cell_type": "code",
   "execution_count": 20,
   "metadata": {
    "id": "SnIk7m_8YAT4"
   },
   "outputs": [],
   "source": [
    "items = [('one', 'two'), ('three', 'four'), ('five', 'six'), ('string', 'a')]\n",
    "\n",
    "sorted_items = sorted(items, key=lambda x: x[1][-1])\n",
    "                      \n",
    "assert sorted_items == [('string', 'a'), ('one', 'two'), ('three', 'four'), ('five', 'six')], \\\n",
    "\"Something is wrong! Please try again\""
   ]
  },
  {
   "cell_type": "markdown",
   "metadata": {
    "id": "f_ggknIxYAT7"
   },
   "source": [
    "### Слайсы\n",
    "\n",
    "Дан код:\n",
    "\n",
    "``x = [1, 2, 3, 4, 5]``\n",
    "\n",
    "``x[###] = [-1, -3, -5]``\n",
    "\n",
    "``print(x)``\n",
    "\n",
    "Напишите слайс вместо ###, чтобы на экран вывелось:\n",
    "\n",
    "``[-5, 2, -3, 4, -1]``"
   ]
  },
  {
   "cell_type": "code",
   "execution_count": 19,
   "metadata": {
    "id": "JcLMmkF6YAT8"
   },
   "outputs": [],
   "source": [
    "x = [1, 2, 3, 4, 5]\n",
    "x[::-2] = [-1, -3, -5]\n",
    "assert x == [-5, 2, -3, 4, -1]"
   ]
  },
  {
   "cell_type": "markdown",
   "metadata": {
    "id": "3QOrzr1_YAT_"
   },
   "source": [
    "### Создание массивов\n",
    "Дан массив $A[0,\\ldots,N-1]$. Напишите функцию, принимающую один обязательный аргумент A и один опциональный аргумент ``erase``, по умолчанию равный 1. Возвратите массив $B[0,\\ldots, N-1]$, где $B_i = A_0 + \\ldots + A_{i}$ --- массив частичных сумм массива $A$, предварительно удалив из массива $B$ все элементы, равные erase. Постарайтесь сделать это за линейное время без использования Numpy."
   ]
  },
  {
   "cell_type": "code",
   "execution_count": 18,
   "metadata": {
    "id": "GSeVXF-xYAUA"
   },
   "outputs": [],
   "source": [
    "def cumsum_and_erase(A, erase=1):\n",
    "    s = 0\n",
    "    B = []\n",
    "    for i in range(len(A)):\n",
    "        s += A[i]\n",
    "        if s != erase:\n",
    "            B.append(s)\n",
    "    return B\n",
    "\n",
    "A = [5, 1, 4, 5, 14]\n",
    "B = cumsum_and_erase(A, erase=10)\n",
    "\n",
    "assert B == [5, 6, 15, 29], \"Something is wrong! Please try again\""
   ]
  },
  {
   "cell_type": "markdown",
   "metadata": {
    "id": "xvOBFjavYAUD"
   },
   "source": [
    "### Обработка текста\n",
    "Дан список текстов, слова в которых разделены пробелами (можно считать, что знаков препинания нет). Часть слов является \"мусорными\": в них присутствуют цифры и спецсимволы. Отфильтруйте такие слова из каждого текста. Используйте функции ``str.split``, ``str.isalpha``, ``str.join``, а также [генератор filter](http://pythonicway.com/python-functinal-programming)."
   ]
  },
  {
   "cell_type": "code",
   "execution_count": 17,
   "metadata": {
    "id": "GBzS-UHZYAUE"
   },
   "outputs": [],
   "source": [
    "sentences = ['1 thousand devils', 'My name is 9Pasha', 'Room #125 costs $100']\n",
    "\n",
    "def process(sentences):\n",
    "    result = []\n",
    "    for sentence in sentences:\n",
    "        filtered_words = []\n",
    "        for word in sentence.split():\n",
    "            if word.isalpha():\n",
    "                filtered_words.append(word)\n",
    "        result.append(' '.join(filtered_words))\n",
    "    return result\n",
    "assert process(sentences) == ['thousand devils', 'My name is', 'Room costs'], \\\n",
    "\"Something is wrong! Please try again\""
   ]
  },
  {
   "cell_type": "markdown",
   "metadata": {
    "id": "EK5Llgf7YAUG"
   },
   "source": [
    "### Собственный класс \"Нейрон\"\n",
    "Реализуйте класс \"Нейрон\", у которого будет несколько методов: \n",
    "\n",
    "* ``__init__``. Принимает на вход массив весов нейрона --- $w = (w_1, \\ldots, w_n)$, а также функцию активации $f$ (по умолчанию $f(x) = x$). Сохраняет веса и функцию внутри класса.\n",
    "\n",
    "* ``forward``. Принимает на вход массив $x = (x_1, \\ldots, x_N)$ --- входы нейрона. Возвращает $f(w_1x_1 + \\ldots + w_nx_n)$.\n",
    "\n",
    "* ``backlog``. Возвращает последний массив $x$, который подавался функции ``forward`` на вход. \n",
    "\n",
    "Если у вас появились трудности, информация по созданию своих классов есть здесь: https://pythonworld.ru/osnovy/obektno-orientirovannoe-programmirovanie-obshhee-predstavlenie.html"
   ]
  },
  {
   "cell_type": "code",
   "execution_count": 30,
   "metadata": {
    "id": "ZmUVu7fNYAUH"
   },
   "outputs": [],
   "source": [
    "class Neuron:\n",
    "    def __init__(self, w, f = lambda x: x):\n",
    "        self.w = w\n",
    "        self.f = f\n",
    "    def forward(self, x):\n",
    "        self.x = x\n",
    "        s = 0\n",
    "        for i in range(len(w)):\n",
    "            s += w[i]*x[i]\n",
    "        return self.f(s)\n",
    "        \n",
    "    def backlog(self):\n",
    "        return self.x"
   ]
  },
  {
   "cell_type": "code",
   "execution_count": 31,
   "metadata": {
    "id": "g6OIjuZhYAUK"
   },
   "outputs": [],
   "source": [
    "import math\n",
    "\n",
    "w = [0.5, 1., -1., 2.]\n",
    "\n",
    "neuron = Neuron([0.5, 1., -1., 2.], lambda x: 1. / (1 + math.exp(x)))\n",
    "\n",
    "x = [1, 2, 3, 4]\n",
    "assert abs(neuron.forward(x) - 0.0005527) < 1e-6, \"Something is wrong! Please try again\"\n",
    "\n",
    "assert neuron.backlog() == x, \"Something is wrong! Please try again\"\n",
    "\n",
    "y = [0, 0, 0, 0]\n",
    "\n",
    "assert abs(neuron.forward(y) - 0.5) < 1e-6, \"Something is wrong! Please try again\""
   ]
  },
  {
   "cell_type": "code",
   "execution_count": null,
   "metadata": {},
   "outputs": [],
   "source": []
  }
 ],
 "metadata": {
  "colab": {
   "collapsed_sections": [],
   "include_colab_link": true,
   "name": "[homework]2_python_intro.ipynb",
   "provenance": []
  },
  "kernelspec": {
   "display_name": "Python 3",
   "language": "python",
   "name": "python3"
  },
  "language_info": {
   "codemirror_mode": {
    "name": "ipython",
    "version": 3
   },
   "file_extension": ".py",
   "mimetype": "text/x-python",
   "name": "python",
   "nbconvert_exporter": "python",
   "pygments_lexer": "ipython3",
   "version": "3.8.3"
  }
 },
 "nbformat": 4,
 "nbformat_minor": 1
}
